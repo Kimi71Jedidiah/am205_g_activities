{
  "nbformat": 4,
  "nbformat_minor": 0,
  "metadata": {
    "colab": {
      "name": "compression.ipynb",
      "provenance": [],
      "collapsed_sections": [],
      "authorship_tag": "ABX9TyOq1rFRPNvgu9EhYn7xeXw8",
      "include_colab_link": true
    },
    "kernelspec": {
      "name": "python3",
      "display_name": "Python 3"
    }
  },
  "cells": [
    {
      "cell_type": "markdown",
      "metadata": {
        "id": "view-in-github",
        "colab_type": "text"
      },
      "source": [
        "<a href=\"https://colab.research.google.com/github/chr1shr/am205_g_activities/blob/master/svd_image_processing/compression.ipynb\" target=\"_parent\"><img src=\"https://colab.research.google.com/assets/colab-badge.svg\" alt=\"Open In Colab\"/></a>"
      ]
    },
    {
      "cell_type": "markdown",
      "metadata": {
        "id": "a-mz2dsLBAZk"
      },
      "source": [
        "# Image compression using SVD"
      ]
    },
    {
      "cell_type": "code",
      "metadata": {
        "id": "egH7OM6Q-_n6"
      },
      "source": [
        "# start by importing some necessary packages\n",
        "%matplotlib inline\n",
        "import numpy as np\n",
        "import matplotlib.pyplot as plt\n",
        "from skimage.io import imread"
      ],
      "execution_count": null,
      "outputs": []
    },
    {
      "cell_type": "markdown",
      "metadata": {
        "id": "JkzMCB-0BgSq"
      },
      "source": [
        "We read in a test image and convert to a $[0,1]$ scale before performing any arithmetic."
      ]
    },
    {
      "cell_type": "code",
      "metadata": {
        "id": "4fH8ouBlBLF4"
      },
      "source": [
        "im = imread(\"https://raw.githubusercontent.com/jandrejevic12/svd_files/master/turtle.JPG\")\n",
        "im = im.astype(np.float)/255.\n",
        "\n",
        "plt.imshow(im)\n",
        "plt.axis('off')\n",
        "plt.show()"
      ],
      "execution_count": null,
      "outputs": []
    },
    {
      "cell_type": "markdown",
      "metadata": {
        "id": "tIbPYt6gCxT6"
      },
      "source": [
        "Next, we vertically stack the color channels to form a $3m\\times{n}$ image, where the $n$ columns of the image represent our samples."
      ]
    },
    {
      "cell_type": "code",
      "metadata": {
        "id": "72P_hCo3BoMM"
      },
      "source": [
        "m,n,p = im.shape\n",
        "S = np.vstack([im[:,:,0],\n",
        "\t\t\t         im[:,:,1],\n",
        "\t\t\t         im[:,:,2]])"
      ],
      "execution_count": null,
      "outputs": []
    },
    {
      "cell_type": "markdown",
      "metadata": {
        "id": "8LJaGu0JDCR7"
      },
      "source": [
        "Complete the following function ```factor(S)```, which should take in the data matrix $S$, compute the mean column vector $\\bar{S}$ and a centered data matrix $A = S - \\bar{S}$, and compute the reduced SVD of $A$. Return the components of the singular value decomposition **and** the computed column mean.\n",
        "\n",
        "**Hints:**\n",
        "- One common challenge to look out for with ```numpy``` arrays is dimension mismatch; ```numpy.mean``` accepts an argument ```keepdims=True``` which keeps the output two dimensional even as you average over the columns to get a single column vector of size $3m\\times{1}$, allowing you to subtract from a 2D array.\n",
        "- ```U, s, Vt = numpy.linalg.svd(A, full_matrices=False)``` returns the singular values as a 1D array ```s```, not a 2D matrix, and you can leave them in that form. In addition, the matrix ```Vt``` is already the transpose of $V$."
      ]
    },
    {
      "cell_type": "code",
      "metadata": {
        "id": "qYOEihBfC_FM"
      },
      "source": [
        "def factor(S):\n",
        "\n",
        "\n",
        "  return U, s, Vt, Sbar # matrix U, array of singular values, matrix V^T, and column mean."
      ],
      "execution_count": null,
      "outputs": []
    },
    {
      "cell_type": "markdown",
      "metadata": {
        "id": "F7VN5MzuG97j"
      },
      "source": [
        "Next, write a function ```rank_approx(U, s, Vt, k)``` which accepts an SVD factorization outputted by ```factor(S)``` and a maximum rank $k$, and assembles a list $L$ of the first $k$ rank-one matrices in the low-rank approximation of the data matrix. The list $L$ should be of the form\n",
        "\n",
        "$$\n",
        "L = [\\sigma_1 u_1 v_1^T, \\sigma_2 u_2 v_2^T, ..., \\sigma_k u_k v_k^T]\n",
        "$$\n",
        "Return the list as your output.\n",
        "\n",
        "**Hint:** In this case, the precise shape of our vectors $u_j$ and $v_j^T$ becomes important when doing multiplication, such as with ```numpy.dot``` or ```numpy.matmul```, so that ```numpy``` does not interpret our input as a dot product and encounter a length mismatch. Thus, an individual singular vector $u_j$ should be reshaped as a 2-D ```numpy``` array of shape $(3m\\times{1})$, and $v_j^T$ as a shape $(1\\times{n})$, in order to get a resultant $3m\\times{n}$ rank one matrix."
      ]
    },
    {
      "cell_type": "code",
      "metadata": {
        "id": "96s2x7zEHOw3"
      },
      "source": [
        "def rank_approx(U, s, Vt, k):\n",
        "    \n",
        "    \n",
        "    return L"
      ],
      "execution_count": null,
      "outputs": []
    },
    {
      "cell_type": "markdown",
      "metadata": {
        "id": "hO4j6QZYEu_W"
      },
      "source": [
        "The function ```reconstruct(L, r, Sbar)``` below accepts the list of low-rank approximations $L$, a target rank $r < k$, and the column mean $\\bar{S}$, and returns the rank-$r$ reconstructed image. If your previous functions are set up correctly, you should be able to run the following cell and plot a test reconstruction:"
      ]
    },
    {
      "cell_type": "code",
      "metadata": {
        "id": "DmyvN8lCE1LM"
      },
      "source": [
        "def reconstruct(L, r, Sbar):\n",
        "    if r >= len(L):\n",
        "        print(\"Error: r must be less than the length of L.\")\n",
        "        return\n",
        "\n",
        "    m = len(Sbar)//3 # the leading dimension of a single channel\n",
        "\n",
        "    # Reconstruct the original image up to rank j.\n",
        "    Ar = np.sum(L[:r], axis=0)\n",
        "   \n",
        "    # Add back the mean and reshape into m by n by p.\n",
        "    Ar += Sbar.reshape(-1,1)\n",
        "    imr = np.stack([Ar[:m,:],\n",
        "\t\t\t\t            Ar[m:2*m,:],\n",
        "\t\t\t\t            Ar[2*m:,:]], axis=2)\n",
        "    \n",
        "    # truncate values and return the reconstructed image.\n",
        "    imr[imr<0] = 0; imr[imr>1] = 1\n",
        "    return imr\n",
        "\n",
        "# Run a test:\n",
        "k = 120; r = 12\n",
        "U, s, Vt, Sbar = factor(S)\n",
        "L = rank_approx(U, s, Vt, k)\n",
        "imr = reconstruct(L, r, Sbar)\n",
        "\n",
        "plt.imshow(imr)\n",
        "plt.axis(\"off\")\n",
        "plt.show()"
      ],
      "execution_count": null,
      "outputs": []
    },
    {
      "cell_type": "markdown",
      "metadata": {
        "id": "olJX8mKUDMf-"
      },
      "source": [
        "If the above test was successful, you should now be able to run the following widget to interactively vary the rank and visualize the resulting reconstruction. With your group, decide how many singular vectors you feel are necessary to reconstruct the image before differences between the original become imperceptible."
      ]
    },
    {
      "cell_type": "code",
      "metadata": {
        "id": "k3930Db2DJOo"
      },
      "source": [
        "import ipywidgets as widgets\n",
        "from ipywidgets import interactive\n",
        "\n",
        "rmax = 120\n",
        "U, s, Vt, Sbar = factor(S)\n",
        "L = rank_approx(U, s, Vt, rmax+1)\n",
        "\n",
        "rank_slider = widgets.IntSlider(\n",
        "    value=1, min=1, max=rmax, step=1,\n",
        "    description='rank:', continuous_update=False)\n",
        "\n",
        "def rank_slider_plot(r = 1):\n",
        "    plt.close()\n",
        "    \n",
        "    imr = reconstruct(L, r, Sbar)\n",
        "\n",
        "    # Plot the original and compressed images.\n",
        "    fig, (ax1, ax2) = plt.subplots(1,2, figsize=(12,6))\n",
        "    ax1.imshow(im)\n",
        "    ax1.set_title(\"original\", size=16)\n",
        "    ax1.axis(\"off\")\n",
        "\n",
        "    ax2.imshow(imr)\n",
        "    ax2.set_title(\"reconstruction\", size=16)\n",
        "    ax2.axis(\"off\")\n",
        "    plt.show()\n",
        "\n",
        "\n",
        "interactive_plot = interactive(rank_slider_plot, r=rank_slider)\n",
        "output = interactive_plot.children[-1]\n",
        "output.layout.height = '400px'\n",
        "interactive_plot"
      ],
      "execution_count": null,
      "outputs": []
    },
    {
      "cell_type": "code",
      "metadata": {
        "id": "IIwvjJCNWqGD"
      },
      "source": [
        ""
      ],
      "execution_count": null,
      "outputs": []
    }
  ]
}