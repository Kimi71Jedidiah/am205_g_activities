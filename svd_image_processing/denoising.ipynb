{
 "cells": [
  {
   "cell_type": "markdown",
   "metadata": {
    "id": "DqhYEvjQSvYh"
   },
   "source": [
    "# Image denoising using SVD"
   ]
  },
  {
   "cell_type": "code",
   "execution_count": null,
   "metadata": {
    "id": "lJ2S0s2sSp-I"
   },
   "outputs": [],
   "source": [
    "# start by importing some necessary packages\n",
    "%matplotlib inline\n",
    "import numpy as np\n",
    "import matplotlib.pyplot as plt\n",
    "from skimage.io import imread"
   ]
  },
  {
   "cell_type": "markdown",
   "metadata": {
    "id": "XEQIMT4_S8_7"
   },
   "source": [
    "We read in a series of stamp images:"
   ]
  },
  {
   "cell_type": "code",
   "execution_count": null,
   "metadata": {
    "colab": {
     "base_uri": "https://localhost:8080/",
     "height": 51
    },
    "id": "DW0c8HC2S5y3",
    "outputId": "9c47fae3-579d-49cd-9237-8bc483285fa8"
   },
   "outputs": [],
   "source": [
    "def load_data():\n",
    "    print(\"loading data ...\")\n",
    "    f = \"https://raw.githubusercontent.com/jandrejevic12/svd_files/master/stamps/\"\n",
    "    N = 22 # the number of images\n",
    "    ims = [0]*N\n",
    "    for i in range(N):\n",
    "        ims[i] = imread(f+\"im_{:02d}.jpg\".format(i))\n",
    "    \n",
    "    ims = np.array(ims).astype(np.float)/255. # convert to [0,1] scale\n",
    "    print(\"load complete!\")\n",
    "    return ims\n",
    "\n",
    "ims = load_data()\n",
    "N, m, n, p = ims.shape"
   ]
  },
  {
   "cell_type": "code",
   "execution_count": null,
   "metadata": {
    "colab": {
     "base_uri": "https://localhost:8080/",
     "height": 248
    },
    "id": "sSz9NSMjUBeo",
    "outputId": "979fa909-e849-4109-cfa9-1e976686e49a"
   },
   "outputs": [],
   "source": [
    "# Visualize the data in a grid:\n",
    "def plot_data(data):\n",
    "    m = 2\n",
    "    n = len(data)//m\n",
    "    fig, axes = plt.subplots(m, n, figsize=(2*n,2*m))\n",
    "    for i,ax in enumerate(axes.flat):\n",
    "        ax.imshow(data[i])\n",
    "        ax.axis('off')\n",
    "    plt.show()\n",
    "\n",
    "plot_data(ims)"
   ]
  },
  {
   "cell_type": "markdown",
   "metadata": {
    "id": "olHEER0EVXMa"
   },
   "source": [
    "Next, we reshape the data so that each image is represented as a long, $m\\times{n}\\times{p}$ column. We center the data about the mean image, and compute the SVD."
   ]
  },
  {
   "cell_type": "code",
   "execution_count": null,
   "metadata": {
    "id": "kNOZKrzwVAQb"
   },
   "outputs": [],
   "source": [
    "# Reshape the data to m*n*p by N:\n",
    "S = ims.reshape(N, m*n*p).T\n",
    "\n",
    "# Compute the mean over all columns.\n",
    "Sm = np.mean(S, axis=1, keepdims=True) # even though it is a vector, keep it two-dimensional.\n",
    "\n",
    "# Perform a reduced SVD on the centered matrix.\n",
    "A = S - Sm\n",
    "U, s, Vt = np.linalg.svd(A, full_matrices=False)"
   ]
  },
  {
   "cell_type": "markdown",
   "metadata": {
    "id": "Gw5_fuPwVq5G"
   },
   "source": [
    "Finally, we can pick a sample image to reconstruct up to a desired rank. Provided the images are well-aligned, due to their high similarity we expect only a few singular vectors are needed for a faithful reconstruction.\n",
    "\n",
    "Notice since we are reconstructing just a single column instead of the whole dataset, we can simply pick out the correct entry of each $v_i^T$ corresponding to our chosen image, instead of constructing the full rank-one matrices $\\sigma_iu_iv_i^T$."
   ]
  },
  {
   "cell_type": "code",
   "execution_count": null,
   "metadata": {
    "id": "Z1HA_VTOVl0y"
   },
   "outputs": [],
   "source": [
    "# Pick an image index and reconstruct it up to rank r.\n",
    "index = 5\n",
    "r = 1\n",
    "Ar = np.sum([s[i]*U[:,i]*Vt[i,index] for i in range(r)], axis=0)\n",
    "\n",
    "# Add back the mean and reshape into m by n by p.\n",
    "Ar += Sm.ravel()\n",
    "imr = Ar.reshape(m,n,p)"
   ]
  },
  {
   "cell_type": "markdown",
   "metadata": {
    "id": "Hvt0sbPvXBhZ"
   },
   "source": [
    "We conclude with a visualization of our reconstructed image:"
   ]
  },
  {
   "cell_type": "code",
   "execution_count": null,
   "metadata": {
    "colab": {
     "base_uri": "https://localhost:8080/",
     "height": 267
    },
    "id": "rS7eShKTWrqE",
    "outputId": "71b535bf-0e54-4edc-d191-66cde639d46f"
   },
   "outputs": [],
   "source": [
    "# Truncate to valid range.\n",
    "imr[imr<0] = 0; imr[imr>1]=1\n",
    "\n",
    "# Plot the original and compressed images.\n",
    "fig, (ax1, ax2) = plt.subplots(1,2, figsize=(7,4))\n",
    "ax1.imshow(ims[index])\n",
    "ax1.set_title(\"original\", size=16)\n",
    "ax1.axis(\"off\")\n",
    "\n",
    "ax2.imshow(imr)\n",
    "ax2.set_title(\"$r={:d}$\".format(r), size=16)\n",
    "ax2.axis(\"off\")\n",
    "plt.show()"
   ]
  },
  {
   "cell_type": "code",
   "execution_count": null,
   "metadata": {
    "id": "khiNTk2TwOm8"
   },
   "outputs": [],
   "source": []
  }
 ],
 "metadata": {
  "colab": {
   "collapsed_sections": [],
   "name": "denoising.ipynb",
   "provenance": []
  },
  "kernelspec": {
   "display_name": "Python 3",
   "language": "python",
   "name": "python3"
  },
  "language_info": {
   "codemirror_mode": {
    "name": "ipython",
    "version": 3
   },
   "file_extension": ".py",
   "mimetype": "text/x-python",
   "name": "python",
   "nbconvert_exporter": "python",
   "pygments_lexer": "ipython3",
   "version": "3.7.7"
  }
 },
 "nbformat": 4,
 "nbformat_minor": 1
}
